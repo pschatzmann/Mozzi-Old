{
 "cells": [
  {
   "cell_type": "markdown",
   "id": "843e61d1-de30-4431-9832-fddf53e8df2e",
   "metadata": {},
   "source": [
    "# Mozzi in Jupyterlab\n",
    "\n",
    "## Introduction\n",
    "\n",
    "Currently your Arduino can only beep like a microwave oven. Mozzi brings your Arduino to life by allowing it to produce much more complex and interesting growls, sweeps and chorusing atmospherics. These sounds can be quickly and easily constructed from familiar synthesis units like oscillators, delays, filters and envelopes.\n",
    "\n",
    "The development of an Arduino Sketch is quite tedious, first you need to wire the processor up to an audio circuit, you need to write your sketch, then you need to upload it to the Microprocessor.\n",
    "\n",
    "We wanted to simplify this cycle so that you can interactively experiment with your code and get an immediate audible result: We can run the __Arduino Mozzi__ algorythmic music project in Jupyterlab!\n",
    "\n",
    "## Pulseaudio\n",
    "\n",
    "The current implementation relys on Pulseaudio. Make sure that you have Pulseaudio installed and that in the __default.pa__ configuration file, the entry __load-module module-native-protocol-tcp__ is uncommented! Finally you need to make sure that the service is started.\n",
    "\n",
    "For OS/X you install it with ```brew install pulseaudio```. The default.pa file can be found in ```/usr/local/opt/pulseaudio/etc/pulse``` and the service is started with ```brew services restart pulseaudio```\n",
    "\n",
    "## Initialization\n",
    "\n",
    "In order to initizlize the environment, we need to define the include paths, library paths and load the dynamic libraries first:"
   ]
  },
  {
   "cell_type": "code",
   "execution_count": 49,
   "id": "efe7c8a6-67f2-4394-b212-63439d30e6c4",
   "metadata": {},
   "outputs": [],
   "source": [
    "#pragma cling add_include_path(\"/opt/mozzi/include/arduino\")\n",
    "#pragma cling add_include_path(\"/opt/mozzi/include/mozzi\")\n",
    "#pragma cling add_library_path(\"/opt/mozzi/lib\")\n",
    "#pragma cling load(\"libarduino_emulator\")\n",
    "#pragma cling load(\"libmozzi\")\n"
   ]
  },
  {
   "cell_type": "markdown",
   "id": "49290eeb-027c-46bc-b71d-bf47308adb5e",
   "metadata": {},
   "source": [
    "Mozzi also requires the difnition of the Arduino Version, so we provide 200:"
   ]
  },
  {
   "cell_type": "code",
   "execution_count": 58,
   "id": "9cf5f84a-3383-48be-9c17-92b0d2428a4a",
   "metadata": {},
   "outputs": [],
   "source": [
    "#define ARDUINO 200"
   ]
  },
  {
   "cell_type": "markdown",
   "id": "46b91c35-04cc-43d4-af40-af46f1f763f5",
   "metadata": {},
   "source": [
    "Now we are ready to include the Arduino.h and the Mozzi.h header files. This makes the functionality visible:"
   ]
  },
  {
   "cell_type": "code",
   "execution_count": 59,
   "id": "8df6835c-c279-4b71-9a06-6f44dffa14c6",
   "metadata": {},
   "outputs": [],
   "source": [
    "#include \"Arduino.h\"\n",
    "#include \"Mozzi.h\"\n"
   ]
  },
  {
   "cell_type": "markdown",
   "id": "0b1d32ce-beee-4497-a4d1-d8b6891cae98",
   "metadata": {},
   "source": [
    "We can use regular Arduino commands now:"
   ]
  },
  {
   "cell_type": "code",
   "execution_count": 60,
   "id": "8e20ed7c-1a86-4a39-8fb8-358241973d4d",
   "metadata": {},
   "outputs": [
    {
     "name": "stdout",
     "output_type": "stream",
     "text": [
      "hallo...\n"
     ]
    }
   ],
   "source": [
    "Serial.println(\"hallo...\");"
   ]
  },
  {
   "cell_type": "markdown",
   "id": "93df0bc3-2628-468b-a645-a9695df5b00b",
   "metadata": {},
   "source": [
    "but we are more interrested in Mozzi functionality: We can check some defined values:"
   ]
  },
  {
   "cell_type": "code",
   "execution_count": 61,
   "id": "0d2ff200-18d2-4f7b-bcb8-e4f1ad930c69",
   "metadata": {},
   "outputs": [
    {
     "data": {
      "text/plain": [
       "64"
      ]
     },
     "execution_count": 61,
     "metadata": {},
     "output_type": "execute_result"
    }
   ],
   "source": [
    "CONTROL_RATE"
   ]
  },
  {
   "cell_type": "code",
   "execution_count": 62,
   "id": "7bdf0ea0-817e-4c4b-916e-1ae0f863ed6f",
   "metadata": {},
   "outputs": [
    {
     "data": {
      "text/plain": [
       "32768"
      ]
     },
     "execution_count": 62,
     "metadata": {},
     "output_type": "execute_result"
    }
   ],
   "source": [
    "AUDIO_RATE"
   ]
  },
  {
   "cell_type": "markdown",
   "id": "cd6b1802-9a43-4c25-ab88-1fd4d843308d",
   "metadata": {},
   "source": [
    "## Defining a Sketch\n",
    "\n",
    "We use the output of a sin function as demo, how to set up a sketch. We have the __full Mozzi functionality__ available, but since we have an interactive environment, the overall control flow is a little bit different."
   ]
  },
  {
   "cell_type": "markdown",
   "id": "d08d161c-42bb-4c80-893f-f63b309a0a47",
   "metadata": {},
   "source": [
    "The API functions are made available with the Mozzi object:"
   ]
  },
  {
   "cell_type": "code",
   "execution_count": 51,
   "id": "773f08d6-9315-4a4e-a070-61697ac22ad3",
   "metadata": {},
   "outputs": [
    {
     "data": {
      "text/plain": [
       "64"
      ]
     },
     "execution_count": 51,
     "metadata": {},
     "output_type": "execute_result"
    }
   ],
   "source": [
    "Mozzi.controlRate()"
   ]
  },
  {
   "cell_type": "code",
   "execution_count": 52,
   "id": "0167cfa8-0edd-4078-b8c9-1495a3433a51",
   "metadata": {},
   "outputs": [
    {
     "data": {
      "text/plain": [
       "1"
      ]
     },
     "execution_count": 52,
     "metadata": {},
     "output_type": "execute_result"
    }
   ],
   "source": [
    "Mozzi.channels()"
   ]
  },
  {
   "cell_type": "code",
   "execution_count": 53,
   "id": "8857fd11-404d-4d71-b69c-287d943c12e6",
   "metadata": {},
   "outputs": [
    {
     "data": {
      "text/plain": [
       "32768"
      ]
     },
     "execution_count": 53,
     "metadata": {},
     "output_type": "execute_result"
    }
   ],
   "source": [
    "Mozzi.audioRate()"
   ]
  },
  {
   "cell_type": "code",
   "execution_count": 63,
   "id": "8cbd9b49-ce5d-4a51-8da1-7cff9a62fea0",
   "metadata": {},
   "outputs": [
    {
     "data": {
      "text/plain": [
       "0"
      ]
     },
     "execution_count": 63,
     "metadata": {},
     "output_type": "execute_result"
    }
   ],
   "source": [
    "Mozzi.mozziMicros()"
   ]
  },
  {
   "cell_type": "markdown",
   "id": "f349147f-33e5-4eb2-80b2-dbc687d7043b",
   "metadata": {},
   "source": [
    "As a side note, I am using the __new object API__, the old API with public global methods is available as well, but it only supports the basic functionality and not the new 'interactive' functionality:"
   ]
  },
  {
   "cell_type": "code",
   "execution_count": 67,
   "id": "0efede80-3fce-4026-964e-f279087b0502",
   "metadata": {},
   "outputs": [
    {
     "data": {
      "text/plain": [
       "0"
      ]
     },
     "execution_count": 67,
     "metadata": {},
     "output_type": "execute_result"
    }
   ],
   "source": [
    "mozziMicros()"
   ]
  },
  {
   "cell_type": "markdown",
   "id": "697b4af3-83e4-488c-936b-ed2f57fb9085",
   "metadata": {},
   "source": [
    "We can define new objects: Here we set up a new Oscil. "
   ]
  },
  {
   "cell_type": "code",
   "execution_count": 37,
   "id": "89d0f37a-d871-4276-9faa-6d43a7a3ba79",
   "metadata": {},
   "outputs": [],
   "source": [
    "#include <Oscil.h> // oscillator template\n",
    "#include <tables/sin2048_int8.h> // sine table for oscillator// use: Oscil <table_size, update_rate> oscilName (wavetable), look in .h file of table #included above\n",
    "\n",
    "// use: Oscil <table_size, update_rate> oscilName (wavetable), look in .h file of table #included above\n",
    "Oscil <SIN2048_NUM_CELLS, AUDIO_RATE> aSin(SIN2048_DATA);\n"
   ]
  },
  {
   "cell_type": "markdown",
   "id": "5fae6cbe-d16d-4671-9850-03e7d8198bba",
   "metadata": {},
   "source": [
    "and we need to define an updateControl and an updateAudio method. Unlike in standard Mozzi you are free to use any name you want. You could even use static methods as part of a class or lambda expressions. \n",
    "\n",
    "Here we just stick to the Mozzi Arduiono standard:"
   ]
  },
  {
   "cell_type": "code",
   "execution_count": 38,
   "id": "6352f814-9f8a-441e-aee6-484b2e42f736",
   "metadata": {},
   "outputs": [],
   "source": [
    "void updateControl(){\n",
    "  // put changing controls in here\n",
    "}\n"
   ]
  },
  {
   "cell_type": "code",
   "execution_count": 39,
   "id": "3fa91df0-addd-43b4-ab8f-dee7abe59999",
   "metadata": {},
   "outputs": [],
   "source": [
    "int16_t updateAudio(){\n",
    "  return MonoOutput::from8Bit(aSin.next()); // return an int signal centred around 0\n",
    "}\n"
   ]
  },
  {
   "cell_type": "markdown",
   "id": "c5c68868-26f8-4cb8-88d5-8fc65e0c57de",
   "metadata": {},
   "source": [
    "Unlike in Arduino we could just execute the setup logic outside of a method, but to be closer to what we are used to do, we create a __setup__ method. \n",
    "We __need to provide the updateAudio and updateControl in the Mozzi.start__ method. We could also provide the optional audio update rate as 3d parameter, if we are not happy with the default value."
   ]
  },
  {
   "cell_type": "code",
   "execution_count": 68,
   "id": "e89dd369-072a-435a-a7dd-ba8950d5d547",
   "metadata": {},
   "outputs": [],
   "source": [
    "void setup(){\n",
    "    Mozzi.start(updateAudio, updateControl);\n",
    "    aSin.setFreq(440); // set the frequency\n",
    "}\n"
   ]
  },
  {
   "cell_type": "markdown",
   "id": "3765a516-dd2b-4ba0-947c-8f0fc47ccdb4",
   "metadata": {},
   "source": [
    "Finally, we execute our setup() method ourselfs - we do not need to implment a loop() method! "
   ]
  },
  {
   "cell_type": "code",
   "execution_count": 70,
   "id": "e4796c85-bd37-4ba3-9a91-4ee3a3ab7607",
   "metadata": {},
   "outputs": [],
   "source": [
    "setup();"
   ]
  },
  {
   "cell_type": "markdown",
   "id": "56536f3a-c177-4796-b2ba-d434f0be82d6",
   "metadata": {},
   "source": [
    "and to hear some sound we use the __play__ method: it expects the number of seconds to play the generated tone (as optional argument): "
   ]
  },
  {
   "cell_type": "code",
   "execution_count": 27,
   "id": "a7873fe2-de41-4f8e-b08b-372144eb9c61",
   "metadata": {},
   "outputs": [
    {
     "data": {
      "text/plain": [
       "true"
      ]
     },
     "execution_count": 27,
     "metadata": {},
     "output_type": "execute_result"
    }
   ],
   "source": [
    "Mozzi.play(10)"
   ]
  },
  {
   "cell_type": "code",
   "execution_count": null,
   "id": "e4b2a5ed-6da3-47a3-a1b7-be38b825a582",
   "metadata": {},
   "outputs": [],
   "source": []
  }
 ],
 "metadata": {
  "kernelspec": {
   "display_name": "C++17",
   "language": "C++17",
   "name": "xcpp17"
  },
  "language_info": {
   "codemirror_mode": "text/x-c++src",
   "file_extension": ".cpp",
   "mimetype": "text/x-c++src",
   "name": "c++",
   "version": "17"
  }
 },
 "nbformat": 4,
 "nbformat_minor": 5
}